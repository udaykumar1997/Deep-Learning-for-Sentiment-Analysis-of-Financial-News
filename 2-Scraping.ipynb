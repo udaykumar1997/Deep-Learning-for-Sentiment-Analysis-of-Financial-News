{
 "cells": [
  {
   "cell_type": "markdown",
   "id": "ce6e3bd4",
   "metadata": {},
   "source": [
    "Companies that are relevent"
   ]
  },
  {
   "cell_type": "code",
   "execution_count": 12,
   "id": "4ecd6255",
   "metadata": {},
   "outputs": [],
   "source": [
    "from config import companies_of_interest\n",
    "\n",
    "# prints a list of all Companies of Interest\n",
    "# for company in companies_of_interest:\n",
    "#         print(company)"
   ]
  },
  {
   "cell_type": "code",
   "execution_count": 2,
   "id": "91334d02",
   "metadata": {},
   "outputs": [],
   "source": [
    "import requests\n",
    "from bs4 import BeautifulSoup\n",
    "import json\n",
    "import time"
   ]
  },
  {
   "cell_type": "code",
   "execution_count": 3,
   "id": "0669bb2b",
   "metadata": {},
   "outputs": [],
   "source": [
    "def scrape_hindenburg_research(company_names):\n",
    "    base_url = \"https://hindenburgresearch.com/\"\n",
    "    current_url = base_url\n",
    "    scraped_data = []\n",
    "    \n",
    "    while current_url:\n",
    "        response = requests.get(current_url)\n",
    "        soup = BeautifulSoup(response.content, \"html.parser\")\n",
    "        articles = soup.find_all(\"div\", class_=\"post-preview\")\n",
    "\n",
    "        for article in articles:\n",
    "            title_tag = article.find(\"h2\", class_=\"post-title\")\n",
    "            title = title_tag.find(\"a\").text.strip()\n",
    "            link = title_tag.find(\"a\")[\"href\"]\n",
    "\n",
    "            date_published_element = article.find(\"time\", class_=\"entry-date published\")\n",
    "            date_published_element = article.find(\"time\",\\\n",
    "                                                  class_=lambda value: value and value.startswith(\"entry-date published\"))\n",
    "\n",
    "            if date_published_element:\n",
    "                date_published = date_published_element.text.strip()\n",
    "            else:\n",
    "                date_published = \"Not found\"\n",
    "\n",
    "            # Check if the article title contains any of the company names\n",
    "            if any(company_name in title for company_name in company_names):\n",
    "                data = {\n",
    "                    \"title\": title,\n",
    "                    \"link\": link,\n",
    "                    \"date_published\": date_published\n",
    "                }\n",
    "                scraped_data.append(data)\n",
    "        # Find the \"next\" button and update the current_url for the next iteration\n",
    "        next_button = soup.find(\"a\", class_=\"next page-numbers\")\n",
    "        if next_button:\n",
    "            current_url = next_button[\"href\"]\n",
    "        else:\n",
    "            current_url = None\n",
    "\n",
    "        # Add a delay to prevent overloading the server with requests\n",
    "        time.sleep(1)\n",
    "\n",
    "    return scraped_data"
   ]
  },
  {
   "cell_type": "code",
   "execution_count": 11,
   "id": "d824ec32",
   "metadata": {},
   "outputs": [],
   "source": [
    "if __name__ == \"__main__\":\n",
    "    hindenburg_data = scrape_hindenburg_research(companies_of_interest)\n",
    "    \n",
    "    # displays the saved data\n",
    "    #print(json.dumps(hindenburg_data, indent=1))\n",
    "    \n",
    "    # saves the scrapped data onto a file\n",
    "    with open('hindenburg_data.json', 'w') as f:\n",
    "        json.dump(hindenburg_data, f, indent=1)"
   ]
  }
 ],
 "metadata": {
  "kernelspec": {
   "display_name": "Python 3 (ipykernel)",
   "language": "python",
   "name": "python3"
  },
  "language_info": {
   "codemirror_mode": {
    "name": "ipython",
    "version": 3
   },
   "file_extension": ".py",
   "mimetype": "text/x-python",
   "name": "python",
   "nbconvert_exporter": "python",
   "pygments_lexer": "ipython3",
   "version": "3.9.12"
  }
 },
 "nbformat": 4,
 "nbformat_minor": 5
}
