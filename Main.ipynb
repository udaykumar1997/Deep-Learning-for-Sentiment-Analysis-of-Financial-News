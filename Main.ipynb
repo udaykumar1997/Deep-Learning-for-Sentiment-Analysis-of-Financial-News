{
  "cells": [
    {
      "attachments": {},
      "cell_type": "markdown",
      "metadata": {},
      "source": [
        "### Imports, global variable declarations and other high-level configs"
      ]
    },
    {
      "cell_type": "code",
      "execution_count": 1,
      "metadata": {},
      "outputs": [
        {
          "name": "stderr",
          "output_type": "stream",
          "text": [
            "[nltk_data] Downloading package stopwords to\n",
            "[nltk_data]     C:\\Users\\udayk\\AppData\\Roaming\\nltk_data...\n",
            "[nltk_data]   Package stopwords is already up-to-date!\n",
            "[nltk_data] Downloading package punkt to\n",
            "[nltk_data]     C:\\Users\\udayk\\AppData\\Roaming\\nltk_data...\n",
            "[nltk_data]   Package punkt is already up-to-date!\n"
          ]
        }
      ],
      "source": [
        "import nltk\n",
        "nltk.download('stopwords')\n",
        "nltk.download('punkt')\n",
        "from nltk.corpus import stopwords"
      ]
    },
    {
      "cell_type": "code",
      "execution_count": 2,
      "metadata": {
        "colab": {
          "base_uri": "https://localhost:8080/"
        },
        "id": "71UGWbbKPD0k",
        "outputId": "8ce81fd2-8410-4326-cf0d-1258720fa0a1"
      },
      "outputs": [],
      "source": [
        "import requests\n",
        "from bs4 import BeautifulSoup\n",
        "import pandas as pd\n",
        "import config\n",
        "import matplotlib.pyplot as plt\n",
        "from collections import Counter\n",
        "import seaborn as sns\n",
        "import os\n"
      ]
    },
    {
      "attachments": {},
      "cell_type": "markdown",
      "metadata": {},
      "source": [
        "Avoid running the following cell repeatedly because it might require re-scrapping the data. Running the following block once is enough."
      ]
    },
    {
      "cell_type": "code",
      "execution_count": 3,
      "metadata": {},
      "outputs": [],
      "source": [
        "stop_words = set(stopwords.words('english'))\n",
        "companies = config.companies_of_interest\n",
        "df = pd.DataFrame()\n",
        "yahoo_results = []\n",
        "\n",
        "# create the folder if it does not exist\n",
        "if not os.path.exists('Visualizations'):\n",
        "    os.makedirs('Visualizations')"
      ]
    },
    {
      "attachments": {},
      "cell_type": "markdown",
      "metadata": {},
      "source": [
        "### The following cell collects data from Yahoo news about our companies\n",
        "Warning: don't run this block repeatedly, you'll risk getting your IP blocked."
      ]
    },
    {
      "cell_type": "code",
      "execution_count": 4,
      "metadata": {},
      "outputs": [
        {
          "name": "stderr",
          "output_type": "stream",
          "text": [
            "C:\\Users\\udayk\\AppData\\Local\\Temp\\ipykernel_9760\\196601446.py:18: FutureWarning: The frame.append method is deprecated and will be removed from pandas in a future version. Use pandas.concat instead.\n",
            "  df = df.append(results_df, ignore_index=True)\n"
          ]
        }
      ],
      "source": [
        "for company in companies:\n",
        "    yahoo_url = f\"https://news.search.yahoo.com/search?p={company}\"\n",
        "    yahoo_response = requests.get(yahoo_url)\n",
        "    yahoo_soup = BeautifulSoup(yahoo_response.content, \"html.parser\")\n",
        "\n",
        "    yahoo_titles = yahoo_soup.find_all(\"h4\", class_=\"s-title\")\n",
        "    yahoo_summaries = yahoo_soup.find_all(\"p\", class_=\"s-desc\")\n",
        "\n",
        "    for i in range(len(yahoo_titles)):\n",
        "        title = yahoo_titles[i].text.strip()\n",
        "        summary = yahoo_summaries[i].text.strip()\n",
        "        yahoo_results.append({\"title\": title, \"summary\": summary, \"source\": \"Yahoo News\", \"company\": company})\n",
        "\n",
        "    # Create dataframe\n",
        "    results = yahoo_results \n",
        "    results_df = pd.DataFrame(results)\n",
        "    # Append the results_df to the existing DataFrame (df)\n",
        "    df = df.append(results_df, ignore_index=True)\n",
        "    # df.head(5)"
      ]
    },
    {
      "attachments": {},
      "cell_type": "markdown",
      "metadata": {},
      "source": [
        "Dataframe information"
      ]
    },
    {
      "cell_type": "code",
      "execution_count": 5,
      "metadata": {},
      "outputs": [
        {
          "data": {
            "text/html": [
              "<div>\n",
              "<style scoped>\n",
              "    .dataframe tbody tr th:only-of-type {\n",
              "        vertical-align: middle;\n",
              "    }\n",
              "\n",
              "    .dataframe tbody tr th {\n",
              "        vertical-align: top;\n",
              "    }\n",
              "\n",
              "    .dataframe thead th {\n",
              "        text-align: right;\n",
              "    }\n",
              "</style>\n",
              "<table border=\"1\" class=\"dataframe\">\n",
              "  <thead>\n",
              "    <tr style=\"text-align: right;\">\n",
              "      <th></th>\n",
              "    </tr>\n",
              "  </thead>\n",
              "  <tbody>\n",
              "  </tbody>\n",
              "</table>\n",
              "</div>"
            ],
            "text/plain": [
              "Empty DataFrame\n",
              "Columns: []\n",
              "Index: []"
            ]
          },
          "execution_count": 5,
          "metadata": {},
          "output_type": "execute_result"
        }
      ],
      "source": [
        "df.head()"
      ]
    },
    {
      "cell_type": "code",
      "execution_count": null,
      "metadata": {},
      "outputs": [],
      "source": [
        "grouped = df.groupby('company')\n",
        "\n",
        "# Loop over the groups and create a new data frame for each group\n",
        "for group_name, group_data in grouped:\n",
        "    group_df = pd.DataFrame(group_data)\n",
        "    print('Group:', group_name)\n",
        "    group_df"
      ]
    },
    {
      "cell_type": "code",
      "execution_count": null,
      "metadata": {},
      "outputs": [],
      "source": [
        "df.info()\n",
        "df.describe()"
      ]
    },
    {
      "cell_type": "code",
      "execution_count": null,
      "metadata": {},
      "outputs": [],
      "source": [
        "df.head()"
      ]
    },
    {
      "attachments": {},
      "cell_type": "markdown",
      "metadata": {},
      "source": [
        "### Visualizations of data scrapped from Yahoo News"
      ]
    },
    {
      "cell_type": "code",
      "execution_count": null,
      "metadata": {},
      "outputs": [],
      "source": [
        "for company in companies:\n",
        "    # Filter the DataFrame for the current company\n",
        "    df_company = df[df[\"company\"] == company]\n",
        "\n",
        "    # Join all titles and summaries into a single string\n",
        "    text = \" \".join(df_company[\"title\"].tolist() + df_company[\"summary\"].tolist())\n",
        "\n",
        "    # Split the text into individual words\n",
        "    words = text.split()\n",
        "    words = [word for word in words if word.lower() not in stop_words]\n",
        "    # Count the frequency of each word\n",
        "    word_counts = Counter(words)\n",
        "\n",
        "    # Create a bar chart of the 20 most common words\n",
        "    most_common_words = word_counts.most_common(20)\n",
        "    x = [word[0] for word in most_common_words]\n",
        "    y = [word[1] for word in most_common_words]\n",
        "    plt.bar(x, y)\n",
        "    plt.title(f\"Frequency of Words in Yahoo News Search Results for {company}\")\n",
        "    plt.xlabel(\"Word\")\n",
        "    plt.xticks(rotation=90)\n",
        "    plt.ylabel(\"Frequency\")\n",
        "    # plt.savefig(f\"v-Word Frequency-YN-{company}.png\", dpi=300, bbox_inches='tight')\n",
        "    plt.savefig(os.path.join('Visualizations', f\"Word Frequency-YN-{company}.png\"), dpi=300, bbox_inches='tight')\n",
        "    plt.show()\n",
        "    print(\"------\")"
      ]
    },
    {
      "cell_type": "code",
      "execution_count": null,
      "metadata": {},
      "outputs": [],
      "source": [
        "# Group the data by company and count the number of articles\n",
        "grouped_data = df.groupby('company').size().reset_index(name='count')\n",
        "\n",
        "# Print the exact number of articles for each company\n",
        "for index, row in grouped_data.iterrows():\n",
        "    print(f\"Company: {row['company']}, Number of articles: {row['count']}\")\n"
      ]
    },
    {
      "cell_type": "code",
      "execution_count": null,
      "metadata": {},
      "outputs": [],
      "source": [
        "# First, group the data by company and count the number of articles\n",
        "grouped_data = df.groupby('company').size().reset_index(name='count')\n",
        "\n",
        "# Data visualization\n",
        "plt.figure(figsize=(10, 6))\n",
        "sns.barplot(x='company', y='count', data=grouped_data)\n",
        "plt.xlabel(\"Company\")\n",
        "plt.ylabel(\"Number of Articles\")\n",
        "plt.title(\"Yahoo News Article Count by Company\")\n",
        "plt.xticks(rotation=45)\n",
        "plt.savefig(\"v-Article Count Frequency-YN.png\", dpi=300, bbox_inches='tight')\n",
        "plt.show()"
      ]
    },
    {
      "attachments": {},
      "cell_type": "markdown",
      "metadata": {},
      "source": [
        "### The following cell collects data from Hindenburg Research about our companies\n",
        "Warning: don't run this block repeatedly, you'll risk getting your IP blocked."
      ]
    },
    {
      "cell_type": "code",
      "execution_count": null,
      "metadata": {},
      "outputs": [],
      "source": [
        "for search_term in companies:\n",
        "    # Get user input for the URL\n",
        "    url = f'https://hindenburgresearch.com/{search_term}'\n",
        "    # Send a GET request to the URL and parse the HTML content\n",
        "    response = requests.get(url)\n",
        "    soup = BeautifulSoup(response.text, 'html.parser')\n",
        "\n",
        "    # Extract all headers and their related paragraphs\n",
        "    headers = {}\n",
        "    current_header = None\n",
        "    for element in soup.find_all(['h1', 'h2', 'h3', 'h4', 'h5', 'h6', 'p']):\n",
        "        if element.name.startswith('h'):\n",
        "            # If a new header is found, update the current header\n",
        "            current_header = element.text.strip()\n",
        "            headers[current_header] = []\n",
        "        elif current_header is not None:\n",
        "            # If a paragraph is found, add it to the list of paragraphs for the current header\n",
        "            headers[current_header].append(element.text.strip())\n",
        "\n",
        "    # Create a list of dictionaries with the title, summary, source, and company information\n",
        "    data = []\n",
        "    for header, paragraphs in headers.items():\n",
        "        data.append({\n",
        "            'title': header,\n",
        "            'summary': ' '.join(paragraphs),\n",
        "            'source': 'Hindenburg Research',\n",
        "            'company': search_term  # Add the company information\n",
        "        })\n",
        "\n",
        "    # Append the new data to the existing DataFrame\n",
        "    df = df.append(pd.DataFrame(data), ignore_index=True)\n",
        "\n",
        "# Print the dataframe\n",
        "print(df)\n"
      ]
    },
    {
      "cell_type": "code",
      "execution_count": null,
      "metadata": {},
      "outputs": [],
      "source": [
        "df['company'].unique()"
      ]
    },
    {
      "cell_type": "code",
      "execution_count": null,
      "metadata": {},
      "outputs": [],
      "source": [
        "# Group the data by company and count the number of articles\n",
        "grouped_data = df.groupby('company').size().reset_index(name='count')\n",
        "\n",
        "# Print the exact number of articles for each company\n",
        "for index, row in grouped_data.iterrows():\n",
        "    print(f\"Company: {row['company']}, Number of articles: {row['count']}\")"
      ]
    },
    {
      "cell_type": "code",
      "execution_count": null,
      "metadata": {},
      "outputs": [],
      "source": [
        "df['source'].unique()"
      ]
    },
    {
      "cell_type": "code",
      "execution_count": null,
      "metadata": {},
      "outputs": [],
      "source": [
        "for company in companies:\n",
        "    # Filter the DataFrame for the current company\n",
        "    df_company = df[df[\"company\"] == company && df[\"companya\"] == company]\n",
        "\n",
        "    # Join all titles and summaries into a single string\n",
        "    text = \" \".join(df_company[\"title\"].tolist() + df_company[\"summary\"].tolist())\n",
        "\n",
        "    # Split the text into individual words\n",
        "    words = text.split()\n",
        "    words = [word for word in words if word.lower() not in stop_words]\n",
        "    # Count the frequency of each word\n",
        "    word_counts = Counter(words)\n",
        "\n",
        "    # Create a bar chart of the 20 most common words\n",
        "    most_common_words = word_counts.most_common(20)\n",
        "    x = [word[0] for word in most_common_words]\n",
        "    y = [word[1] for word in most_common_words]\n",
        "    plt.bar(x, y)\n",
        "    plt.title(f\"Frequency of Words in Hindenburg Search Results for {company}\")\n",
        "    plt.xlabel(\"Word\")\n",
        "    plt.xticks(rotation=90)\n",
        "    plt.ylabel(\"Frequency\")\n",
        "    # plt.savefig(f\"v-Word Frequency-YN-{company}.png\", dpi=300, bbox_inches='tight')\n",
        "    plt.savefig(os.path.join('Visualizations', f\"Word Frequency-HR-{company}.png\"), dpi=300, bbox_inches='tight')\n",
        "    plt.show()\n",
        "    print(\"------\")"
      ]
    },
    {
      "cell_type": "code",
      "execution_count": null,
      "metadata": {
        "colab": {
          "base_uri": "https://localhost:8080/",
          "height": 564
        },
        "id": "wdLfox4PFhBk",
        "outputId": "93bfede5-e763-4647-afde-88881dffe90c"
      },
      "outputs": [],
      "source": [
        "df['summary'] = df['summary'].apply(lambda x: ' '.join([word for word in x.lower().split() if word not in stop_words]))\n",
        "\n",
        "# Count word frequency in summary column\n",
        "word_counts = Counter()\n",
        "df['summary'].str.split().apply(word_counts.update)\n",
        "\n",
        "# Plot word frequency\n",
        "plt.figure(figsize=(10, 6))\n",
        "plt.bar(*zip(*word_counts.most_common(10)))\n",
        "plt.title('Most common words in article summaries')\n",
        "plt.xlabel('Words')\n",
        "plt.ylabel('Frequency')\n",
        "plt.show()"
      ]
    },
    {
      "cell_type": "code",
      "execution_count": null,
      "metadata": {
        "colab": {
          "base_uri": "https://localhost:8080/",
          "height": 564
        },
        "id": "ry9YwPeZGYd9",
        "outputId": "f6241e34-a285-464d-bec1-5a6021ffffe9"
      },
      "outputs": [],
      "source": [
        "df['title'] = df['title'].apply(lambda x: ' '.join([word for word in x.lower().split() if word not in stop_words]))\n",
        "\n",
        "# Count word frequency in summary column\n",
        "word_counts = Counter()\n",
        "df['title'].str.split().apply(word_counts.update)\n",
        "\n",
        "# Plot word frequency\n",
        "plt.figure(figsize=(10, 6))\n",
        "plt.bar(*zip(*word_counts.most_common(10)))\n",
        "plt.title('Most common words in article summaries')\n",
        "plt.xlabel('Words')\n",
        "plt.ylabel('Frequency')\n",
        "plt.show()"
      ]
    },
    {
      "cell_type": "code",
      "execution_count": null,
      "metadata": {
        "colab": {
          "base_uri": "https://localhost:8080/",
          "height": 363
        },
        "id": "y4wzx8AqGl-U",
        "outputId": "257e33ae-6e10-4c65-c0d9-d9647c522529"
      },
      "outputs": [],
      "source": [
        "df_1"
      ]
    },
    {
      "cell_type": "code",
      "execution_count": null,
      "metadata": {
        "colab": {
          "base_uri": "https://localhost:8080/",
          "height": 423
        },
        "id": "H5uO3RVCIHyt",
        "outputId": "ba589574-0d4e-46bf-96a5-c7fc01c46eba"
      },
      "outputs": [],
      "source": [
        "df"
      ]
    },
    {
      "cell_type": "code",
      "execution_count": null,
      "metadata": {
        "id": "d-vYy1NVIIVD"
      },
      "outputs": [],
      "source": [
        "result = pd.concat([df_1, df], ignore_index=True)"
      ]
    },
    {
      "cell_type": "code",
      "execution_count": null,
      "metadata": {
        "colab": {
          "base_uri": "https://localhost:8080/",
          "height": 206
        },
        "id": "SCCsWVscIR5s",
        "outputId": "ab115ec5-f42c-479d-aade-9557a1983207"
      },
      "outputs": [],
      "source": [
        "result.head()"
      ]
    },
    {
      "cell_type": "code",
      "execution_count": null,
      "metadata": {
        "colab": {
          "base_uri": "https://localhost:8080/",
          "height": 871
        },
        "id": "7s8krYfjIW-d",
        "outputId": "e788095b-ca29-4331-8cda-a0edd47afc6b"
      },
      "outputs": [],
      "source": [
        "from wordcloud import WordCloud\n",
        "import matplotlib.pyplot as plt\n",
        "# Combine the 'title' and 'summary' columns into one\n",
        "text = ' '.join(result['title']) + ' ' + ' '.join(result['summary'])\n",
        "\n",
        "# Generate a word cloud for the combined text\n",
        "wordcloud = WordCloud(width=800, height=400, background_color='white').generate(text)\n",
        "\n",
        "# Plot the word cloud for the title column\n",
        "plt.figure(figsize=(10, 5))\n",
        "plt.imshow(WordCloud(width=800, height=400, background_color='white').generate(' '.join(df['title'])))\n",
        "plt.axis('off')\n",
        "plt.title('Word Cloud for Title Column')\n",
        "plt.show()\n",
        "\n",
        "# Plot the word cloud for the summary column\n",
        "plt.figure(figsize=(10, 5))\n",
        "plt.imshow(WordCloud(width=800, height=400, background_color='white').generate(' '.join(df['summary'])))\n",
        "plt.axis('off')\n",
        "plt.title('Word Cloud for Summary Column')\n",
        "plt.show()"
      ]
    },
    {
      "cell_type": "code",
      "execution_count": null,
      "metadata": {
        "colab": {
          "base_uri": "https://localhost:8080/",
          "height": 472
        },
        "id": "U_uQvFHdIuWD",
        "outputId": "b37a85b7-85b4-4b6a-bb7e-ade6976d9e63"
      },
      "outputs": [],
      "source": [
        "import matplotlib.pyplot as plt\n",
        "from collections import Counter\n",
        "\n",
        "# Concatenate title and summary columns into one string\n",
        "text = ' '.join(result['title'].tolist() + result['summary'].tolist())\n",
        "\n",
        "# Remove stop words\n",
        "words = [word for word in text.split() if word.lower() not in stop_words]\n",
        "\n",
        "# Count the frequency of each word\n",
        "word_counts = Counter(words)\n",
        "\n",
        "# Get the top 10 most common words\n",
        "top_words = word_counts.most_common(10)\n",
        "\n",
        "# Create a bar plot of the top 10 words\n",
        "plt.bar([word[0] for word in top_words], [word[1] for word in top_words])\n",
        "plt.title('Top 10 Most Common Words in Titles and Summaries')\n",
        "plt.xlabel('Word')\n",
        "plt.ylabel('Frequency')\n",
        "plt.show()\n"
      ]
    },
    {
      "cell_type": "code",
      "execution_count": null,
      "metadata": {
        "colab": {
          "base_uri": "https://localhost:8080/",
          "height": 472
        },
        "id": "piuan8aHJzXG",
        "outputId": "9b57fdd8-584a-4038-b651-b30c218684ea"
      },
      "outputs": [],
      "source": [
        "import pandas as pd\n",
        "import seaborn as sns\n",
        "from collections import Counter\n",
        "\n",
        "# Create a list with all the words in the title column\n",
        "all_title_words = [word for title in result['title'] for word in title.split()]\n",
        "\n",
        "# Count the frequency of each word\n",
        "title_word_freq = Counter(all_title_words)\n",
        "\n",
        "# Get the top 10 most frequent words and their frequencies\n",
        "top_title_words = title_word_freq.most_common(10)\n",
        "x_title, y_title = zip(*top_title_words)\n",
        "\n",
        "# Convert the lists to a pandas series\n",
        "x_title = pd.Series(x_title)\n",
        "y_title = pd.Series(y_title)\n",
        "\n",
        "# Create a barplot with seaborn\n",
        "sns.barplot(x=y_title, y=x_title)\n",
        "plt.title('Top 10 most frequent words in title column')\n",
        "plt.xlabel('Frequency')\n",
        "plt.show()\n"
      ]
    },
    {
      "cell_type": "code",
      "execution_count": null,
      "metadata": {
        "id": "FjoLvuGfLXAc"
      },
      "outputs": [],
      "source": [
        "import re\n",
        "import string\n",
        "from nltk.corpus import stopwords\n",
        "from nltk.tokenize import word_tokenize\n",
        "\n",
        "# Get stop words and set up punctuation filter\n",
        "punctuation = set(string.punctuation)\n",
        "extra_symbols = set(['‘', '’', '“', '”', '’s', '’t', '—', '–', '...'])\n",
        "\n",
        "# Remove stop words and extra symbols from title column\n",
        "result['title_clean'] = result['title'].apply(lambda x: ' '.join(word.lower() for word in word_tokenize(x) if word.lower() not in stop_words and word.lower() not in punctuation and word.lower() not in extra_symbols))\n",
        "\n",
        "# Remove stop words and extra symbols from summary column\n",
        "result['summary_clean'] = result['summary'].apply(lambda x: ' '.join(word.lower() for word in word_tokenize(x) if word.lower() not in stop_words and word.lower() not in punctuation and word.lower() not in extra_symbols))\n"
      ]
    },
    {
      "attachments": {},
      "cell_type": "markdown",
      "metadata": {
        "colab": {
          "base_uri": "https://localhost:8080/",
          "height": 641
        },
        "id": "0CkRre4pLcAU",
        "outputId": "8b67d396-187c-48a5-aa1e-3153bc71a812"
      },
      "source": [
        "## Results"
      ]
    },
    {
      "cell_type": "code",
      "execution_count": null,
      "metadata": {
        "colab": {
          "base_uri": "https://localhost:8080/",
          "height": 536
        },
        "id": "6zKiRn83L7VV",
        "outputId": "c2b270d3-f34e-4ab4-be81-2eb2e4c1c600"
      },
      "outputs": [],
      "source": [
        "import matplotlib.pyplot as plt\n",
        "from collections import Counter\n",
        "\n",
        "# Concatenate title and summary columns into one string\n",
        "text = ' '.join(result['title_clean'].tolist() + result['summary_clean'].tolist())\n",
        "\n",
        "# Remove stop words\n",
        "stop_words = ['the', 'and', 'of', 'in', 'to', 'a', 'that', 'for', 'is', 'on', 'with', 'it', 'this', 'as', 'an', 'be', 'by', 'from']\n",
        "words = [word for word in text.split() if word.lower() not in stop_words]\n",
        "\n",
        "# Count the frequency of each word\n",
        "word_counts = Counter(words)\n",
        "\n",
        "# Get the top 10 most common words\n",
        "top_words = word_counts.most_common(10)\n",
        "\n",
        "# Create a bar plot of the top 10 words\n",
        "plt.bar([word[0] for word in top_words], [word[1] for word in top_words])\n",
        "plt.title('Top 10 Most Common Words in Titles and Summaries')\n",
        "plt.xlabel('Word')\n",
        "plt.xticks(rotation=90)\n",
        "plt.ylabel('Frequency')\n",
        "plt.show()\n"
      ]
    },
    {
      "cell_type": "code",
      "execution_count": null,
      "metadata": {
        "colab": {
          "base_uri": "https://localhost:8080/",
          "height": 472
        },
        "id": "AsUAGZekMD9V",
        "outputId": "dd3f26e7-8884-4f73-9800-9cf98e8da6de"
      },
      "outputs": [],
      "source": [
        "import pandas as pd\n",
        "import seaborn as sns\n",
        "from collections import Counter\n",
        "\n",
        "# Create a list with all the words in the title column\n",
        "all_title_words = [word for title in result['title_clean'] for word in title.split()]\n",
        "\n",
        "# Count the frequency of each word\n",
        "title_word_freq = Counter(all_title_words)\n",
        "\n",
        "# Get the top 10 most frequent words and their frequencies\n",
        "top_title_words = title_word_freq.most_common(10)\n",
        "x_title, y_title = zip(*top_title_words)\n",
        "\n",
        "# Convert the lists to a pandas series\n",
        "x_title = pd.Series(x_title)\n",
        "y_title = pd.Series(y_title)\n",
        "\n",
        "# Create a barplot with seaborn\n",
        "sns.barplot(x=y_title, y=x_title)\n",
        "plt.title('Top 10 most frequent words in title column')\n",
        "plt.xlabel('Frequency')\n",
        "plt.show()\n"
      ]
    },
    {
      "cell_type": "code",
      "execution_count": null,
      "metadata": {
        "colab": {
          "base_uri": "https://localhost:8080/",
          "height": 472
        },
        "id": "1ZBFnpTnMV3F",
        "outputId": "2ada16a2-8b2e-4413-b6f6-931713aeea96"
      },
      "outputs": [],
      "source": [
        "import pandas as pd\n",
        "import seaborn as sns\n",
        "from collections import Counter\n",
        "\n",
        "# Create a list with all the words in the title column\n",
        "all_summary_words = [word for title in result['summary_clean'] for word in title.split()]\n",
        "\n",
        "# Count the frequency of each word\n",
        "title_word_freq = Counter(all_summary_words)\n",
        "\n",
        "# Get the top 10 most frequent words and their frequencies\n",
        "top_title_words = title_word_freq.most_common(10)\n",
        "x_title, y_title = zip(*top_title_words)\n",
        "\n",
        "# Convert the lists to a pandas series\n",
        "x_title = pd.Series(x_title)\n",
        "y_title = pd.Series(y_title)\n",
        "\n",
        "# Create a barplot with seaborn\n",
        "sns.barplot(x=y_title, y=x_title)\n",
        "plt.title('Top 10 most frequent words in summary column')\n",
        "plt.xlabel('Frequency')\n",
        "plt.show()\n"
      ]
    },
    {
      "cell_type": "code",
      "execution_count": null,
      "metadata": {
        "colab": {
          "base_uri": "https://localhost:8080/",
          "height": 472
        },
        "id": "KWE-7xljMlm8",
        "outputId": "787a2dce-48e9-4b99-c035-0ba1c280985e"
      },
      "outputs": [],
      "source": [
        "import matplotlib.pyplot as plt\n",
        "\n",
        "title_lengths = result['title_clean'].str.len()\n",
        "summary_lengths = result['summary_clean'].str.len()\n",
        "\n",
        "fig, ax = plt.subplots()\n",
        "ax.scatter(title_lengths, summary_lengths)\n",
        "plt.title('Title vs. Summary Lengths')\n",
        "plt.xlabel('Title Length (Characters)')\n",
        "plt.ylabel('Summary Length (Characters)')\n",
        "plt.show()\n"
      ]
    },
    {
      "cell_type": "code",
      "execution_count": null,
      "metadata": {},
      "outputs": [],
      "source": [
        "# Print the info() method\n",
        "print(df_1.info())"
      ]
    },
    {
      "cell_type": "code",
      "execution_count": null,
      "metadata": {},
      "outputs": [],
      "source": [
        "# Print the describe() method\n",
        "print(df_1.describe())"
      ]
    },
    {
      "cell_type": "code",
      "execution_count": null,
      "metadata": {},
      "outputs": [],
      "source": [
        "# Print the head() method\n",
        "print(df_1.head())"
      ]
    },
    {
      "cell_type": "code",
      "execution_count": null,
      "metadata": {},
      "outputs": [],
      "source": [
        "# Print the tail() method\n",
        "print(df_1.tail())"
      ]
    },
    {
      "cell_type": "code",
      "execution_count": null,
      "metadata": {
        "colab": {
          "base_uri": "https://localhost:8080/",
          "height": 484
        },
        "id": "HC0DCdnqNMRC",
        "outputId": "1c8151b0-2d8f-4146-b793-750ac7345f75"
      },
      "outputs": [],
      "source": [
        "import seaborn as sns\n",
        "import matplotlib.pyplot as plt\n",
        "\n",
        "result['length'] = result['title_clean'].str.len() + result['summary_clean'].str.len()\n",
        "df_1['length'] = df_1['summary'].apply(len)\n",
        "sns.barplot(x=df_1.index, y='length', data=df_1)\n",
        "plt.title('Length of Articles')\n",
        "plt.xlabel('Article Index')\n",
        "plt.xticks(rotation=90)\n",
        "plt.ylabel('Length (Characters)')\n",
        "plt.show()\n"
      ]
    },
    {
      "cell_type": "code",
      "execution_count": null,
      "metadata": {
        "colab": {
          "base_uri": "https://localhost:8080/",
          "height": 431
        },
        "id": "S49QBlJHNUNJ",
        "outputId": "bf8198b5-9b03-4220-dec2-cac51f81b7d0"
      },
      "outputs": [],
      "source": [
        "import matplotlib.pyplot as plt\n",
        "\n",
        "source_counts = result['source'].value_counts()\n",
        "labels = source_counts.index.tolist()\n",
        "sizes = source_counts.values.tolist()\n",
        "\n",
        "fig1, ax1 = plt.subplots()\n",
        "ax1.pie(sizes, labels=labels, autopct='%1.1f%%', startangle=90)\n",
        "ax1.axis('equal')  # Equal aspect ratio ensures that pie is drawn as a circle.\n",
        "plt.title('Sources of Articles')\n",
        "plt.show()\n"
      ]
    },
    {
      "cell_type": "code",
      "execution_count": null,
      "metadata": {
        "colab": {
          "base_uri": "https://localhost:8080/",
          "height": 337
        },
        "id": "X9GBGni_Nil8",
        "outputId": "4d8cdce7-be96-43d0-ac86-0ed33f9856ff"
      },
      "outputs": [],
      "source": [
        "result.head()"
      ]
    },
    {
      "attachments": {},
      "cell_type": "markdown",
      "metadata": {},
      "source": [
        "## NLP Vader Lexicon"
      ]
    },
    {
      "cell_type": "code",
      "execution_count": null,
      "metadata": {
        "colab": {
          "base_uri": "https://localhost:8080/"
        },
        "id": "tEWXTcORO_RN",
        "outputId": "406638ae-3bd4-420d-8061-c2182e19e299"
      },
      "outputs": [],
      "source": [
        "!pip install nltk\n",
        "import nltk\n",
        "nltk.download('vader_lexicon')\n",
        "from nltk.sentiment import SentimentIntensityAnalyzer"
      ]
    },
    {
      "cell_type": "code",
      "execution_count": null,
      "metadata": {
        "id": "F9rowB5HQU0k"
      },
      "outputs": [],
      "source": [
        "def get_sentiment_scores(text):\n",
        "    sid = SentimentIntensityAnalyzer()\n",
        "    scores = sid.polarity_scores(text)\n",
        "    return scores\n"
      ]
    },
    {
      "cell_type": "code",
      "execution_count": null,
      "metadata": {},
      "outputs": [],
      "source": [
        "df_1['title_sentiment'] = df_1['title'].apply(get_sentiment_scores)\n",
        "df_1['summary_sentiment'] = df_1['summary'].apply(get_sentiment_scores)\n"
      ]
    },
    {
      "cell_type": "code",
      "execution_count": null,
      "metadata": {
        "colab": {
          "base_uri": "https://localhost:8080/"
        },
        "id": "H4Se-ZVUQZ0m",
        "outputId": "0dff840b-a06c-47af-9a08-55e3aaa434f2"
      },
      "outputs": [],
      "source": [
        "title_sentiment_avg = df_1['title_sentiment'].apply(lambda x: x['compound']).mean()\n",
        "summary_sentiment_avg = df_1['summary_sentiment'].apply(lambda x: x['compound']).mean()\n",
        "\n",
        "print(\"Title sentiment average:\", title_sentiment_avg)\n",
        "print(\"Summary sentiment average:\", summary_sentiment_avg)\n"
      ]
    },
    {
      "attachments": {},
      "cell_type": "markdown",
      "metadata": {
        "id": "yKMd_wsfSMHd"
      },
      "source": [
        "# NLP MultinomialNB"
      ]
    },
    {
      "cell_type": "code",
      "execution_count": null,
      "metadata": {},
      "outputs": [],
      "source": [
        "import pandas as pd\n",
        "from textblob import TextBlob\n",
        "from sklearn.feature_extraction.text import CountVectorizer\n",
        "from sklearn.naive_bayes import MultinomialNB"
      ]
    },
    {
      "cell_type": "code",
      "execution_count": null,
      "metadata": {},
      "outputs": [],
      "source": [
        "# define a function to calculate sentiment polarity using TextBlob\n",
        "def calculate_sentiment(text):\n",
        "    blob = TextBlob(text)\n",
        "    return blob.sentiment.polarity\n",
        "\n",
        "# calculate sentiment polarity for each row in the dataframe\n",
        "df['polarity'] = df['summary'].apply(calculate_sentiment)\n",
        "\n",
        "# define the features and target for the scikit-learn model\n",
        "X = df['summary']\n",
        "y = df['polarity'].apply(lambda x: 'positive' if x > 0 else 'negative' if x < 0 else 'neutral')\n",
        "\n",
        "# convert text to numerical features using CountVectorizer\n",
        "vectorizer = CountVectorizer()\n",
        "X = vectorizer.fit_transform(X)\n",
        "\n",
        "# train a naive Bayes classifier on the labeled dataset\n",
        "clf = MultinomialNB()\n",
        "clf.fit(X, y)\n",
        "\n",
        "# predict sentiment for a new text\n",
        "new_text = input(\"Enter a sentence:\")\n",
        "new_text_features = vectorizer.transform([new_text])\n",
        "new_text_sentiment = clf.predict(new_text_features)[0]\n",
        "print(new_text_sentiment)"
      ]
    }
  ],
  "metadata": {
    "colab": {
      "provenance": []
    },
    "kernelspec": {
      "display_name": "Python 3",
      "name": "python3"
    },
    "language_info": {
      "codemirror_mode": {
        "name": "ipython",
        "version": 3
      },
      "file_extension": ".py",
      "mimetype": "text/x-python",
      "name": "python",
      "nbconvert_exporter": "python",
      "pygments_lexer": "ipython3",
      "version": "3.9.12"
    }
  },
  "nbformat": 4,
  "nbformat_minor": 0
}
