{
 "cells": [
  {
   "cell_type": "markdown",
   "id": "1a3efd36",
   "metadata": {},
   "source": [
    "Companies that are relevent"
   ]
  },
  {
   "cell_type": "code",
   "execution_count": 5,
   "id": "4ecd6255",
   "metadata": {},
   "outputs": [
    {
     "name": "stdout",
     "output_type": "stream",
     "text": [
      "Twitter\n",
      "Ebix\n",
      "Company3\n",
      "Loki\n"
     ]
    }
   ],
   "source": [
    "from config import companies_of_interest\n",
    "for company in companies_of_interest:\n",
    "        print(company)"
   ]
  },
  {
   "cell_type": "code",
   "execution_count": 6,
   "id": "ea860a31",
   "metadata": {},
   "outputs": [],
   "source": [
    "import requests\n",
    "from bs4 import BeautifulSoup\n",
    "import json\n",
    "import time"
   ]
  },
  {
   "cell_type": "code",
   "execution_count": 16,
   "id": "e52b6a74",
   "metadata": {},
   "outputs": [],
   "source": [
    "def scrape_hindenburg_research(company_names):\n",
    "    url = \"https://hindenburgresearch.com/\"\n",
    "    response = requests.get(url)\n",
    "    soup = BeautifulSoup(response.content, \"html.parser\")\n",
    "\n",
    "    articles = soup.find_all(\"div\", class_=\"row\")\n",
    "#     print(articles)\n",
    "    scraped_data = []\n",
    "    for article in articles:\n",
    "        title_element = article.find(\"h2\")\n",
    "        print(title_element)\n",
    "        if title_element is not None:\n",
    "            title = title_element.text.strip()\n",
    "            link = article.find(\"a\")[\"href\"]\n",
    "#             date_published = article.find(\"span\", class_=\"entry-date published\").text.strip()\n",
    "\n",
    "            # Check if the article title contains any of the company names\n",
    "            if any(company_name in title for company_name in company_names):\n",
    "                data = {\n",
    "                    \"title\": title,\n",
    "                    \"link\": link,\n",
    "                    \"date_published\": date_published\n",
    "                }\n",
    "                scraped_data.append(data)\n",
    "        else:\n",
    "            print(\"No title found for this article\")\n",
    "\n",
    "    return scraped_data"
   ]
  },
  {
   "cell_type": "code",
   "execution_count": 17,
   "id": "b9962594",
   "metadata": {},
   "outputs": [
    {
     "name": "stdout",
     "output_type": "stream",
     "text": [
      "Twitter\n",
      "Ebix\n",
      "Company3\n",
      "Loki\n",
      "None\n",
      "No title found for this article\n",
      "None\n",
      "No title found for this article\n",
      "<h2 class=\"post-title\"><a href=\"https://hindenburgresearch.com/block/\" rel=\"bookmark\">Block: How Inflated User Metrics and “Frictionless” Fraud Facilitation Enabled Insiders To Cash Out Over $1 Billion</a></h2>\n",
      "None\n",
      "No title found for this article\n",
      "[]\n"
     ]
    }
   ],
   "source": [
    "if __name__ == \"__main__\":\n",
    "    for company in companies_of_interest:\n",
    "        print(company)\n",
    "    hindenburg_data = scrape_hindenburg_research(companies_of_interest)\n",
    "    print(json.dumps(hindenburg_data, indent=4))\n"
   ]
  },
  {
   "cell_type": "code",
   "execution_count": null,
   "id": "43c0dd68",
   "metadata": {},
   "outputs": [],
   "source": []
  },
  {
   "cell_type": "code",
   "execution_count": null,
   "id": "c09f468e",
   "metadata": {},
   "outputs": [],
   "source": []
  }
 ],
 "metadata": {
  "kernelspec": {
   "display_name": "Python 3 (ipykernel)",
   "language": "python",
   "name": "python3"
  },
  "language_info": {
   "codemirror_mode": {
    "name": "ipython",
    "version": 3
   },
   "file_extension": ".py",
   "mimetype": "text/x-python",
   "name": "python",
   "nbconvert_exporter": "python",
   "pygments_lexer": "ipython3",
   "version": "3.9.12"
  }
 },
 "nbformat": 4,
 "nbformat_minor": 5
}
