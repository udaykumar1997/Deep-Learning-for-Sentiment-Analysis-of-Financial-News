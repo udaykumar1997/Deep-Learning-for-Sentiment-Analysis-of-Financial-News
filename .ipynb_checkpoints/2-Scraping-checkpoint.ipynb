{
 "cells": [
  {
   "cell_type": "markdown",
   "id": "abc1ced6",
   "metadata": {},
   "source": [
    "Companies that are relevent"
   ]
  },
  {
   "cell_type": "code",
   "execution_count": 1,
   "id": "4ecd6255",
   "metadata": {},
   "outputs": [
    {
     "name": "stdout",
     "output_type": "stream",
     "text": [
      "Twitter\n",
      "Ebix\n",
      "Company3\n",
      "Loki\n"
     ]
    }
   ],
   "source": [
    "from config import companies_of_interest\n",
    "for company in companies_of_interest:\n",
    "        print(company)"
   ]
  },
  {
   "cell_type": "code",
   "execution_count": 2,
   "id": "2d863861",
   "metadata": {},
   "outputs": [],
   "source": [
    "import requests\n",
    "from bs4 import BeautifulSoup\n",
    "import json\n",
    "import time"
   ]
  },
  {
   "cell_type": "code",
   "execution_count": 3,
   "id": "1fcf88cd",
   "metadata": {},
   "outputs": [],
   "source": [
    "def scrape_hindenburg_research(company_names):\n",
    "    url = \"https://hindenburgresearch.com/\"\n",
    "    response = requests.get(url)\n",
    "    soup = BeautifulSoup(response.content, \"html.parser\")\n",
    "\n",
    "    articles = soup.find_all(\"div\", class_=\"row\")\n",
    "\n",
    "    scraped_data = []\n",
    "    for article in articles:\n",
    "        title = article.find(\"h2\").text.strip()\n",
    "        link = article.find(\"a\")[\"href\"]\n",
    "        date_published = article.find(\"span\", class_=\"entry-date published\").text.strip()\n",
    "\n",
    "        # Check if the article title contains any of the company names\n",
    "        if any(company_name in title for company_name in company_names):\n",
    "            data = {\n",
    "                \"title\": title,\n",
    "                \"link\": link,\n",
    "                \"date_published\": date_published\n",
    "            }\n",
    "            scraped_data.append(data)\n",
    "\n",
    "    return scraped_data"
   ]
  },
  {
   "cell_type": "code",
   "execution_count": 4,
   "id": "ab2615b4",
   "metadata": {},
   "outputs": [
    {
     "name": "stdout",
     "output_type": "stream",
     "text": [
      "Twitter\n",
      "Ebix\n",
      "Company3\n",
      "Loki\n",
      "[]\n"
     ]
    }
   ],
   "source": [
    "if __name__ == \"__main__\":\n",
    "    for company in companies_of_interest:\n",
    "        print(company)\n",
    "    hindenburg_data = scrape_hindenburg_research(companies_of_interest)\n",
    "    print(json.dumps(hindenburg_data, indent=4))\n"
   ]
  },
  {
   "cell_type": "code",
   "execution_count": null,
   "id": "2c9e4311",
   "metadata": {},
   "outputs": [],
   "source": []
  },
  {
   "cell_type": "code",
   "execution_count": null,
   "id": "af4442b2",
   "metadata": {},
   "outputs": [],
   "source": []
  }
 ],
 "metadata": {
  "kernelspec": {
   "display_name": "Python 3 (ipykernel)",
   "language": "python",
   "name": "python3"
  },
  "language_info": {
   "codemirror_mode": {
    "name": "ipython",
    "version": 3
   },
   "file_extension": ".py",
   "mimetype": "text/x-python",
   "name": "python",
   "nbconvert_exporter": "python",
   "pygments_lexer": "ipython3",
   "version": "3.9.12"
  }
 },
 "nbformat": 4,
 "nbformat_minor": 5
}
