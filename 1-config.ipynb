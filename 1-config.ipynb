{
 "cells": [
  {
   "cell_type": "code",
   "execution_count": 11,
   "id": "71e909ab",
   "metadata": {},
   "outputs": [],
   "source": [
    "companies_of_interest = [\"Twitter\", \"Ebix\", \"Company3\",\"Loki\",\"Blockchain\"]"
   ]
  },
  {
   "cell_type": "code",
   "execution_count": 12,
   "id": "dd1bfaca",
   "metadata": {},
   "outputs": [],
   "source": [
    "# API keys\n",
    "TWITTER_API_KEY = \"your_twitter_api_key\"\n",
    "TWITTER_API_SECRET = \"your_twitter_api_secret\"\n",
    "REDDIT_CLIENT_ID = \"your_reddit_client_id\"\n",
    "REDDIT_CLIENT_SECRET = \"your_reddit_client_secret\""
   ]
  },
  {
   "cell_type": "code",
   "execution_count": 13,
   "id": "c4d462bf",
   "metadata": {},
   "outputs": [],
   "source": [
    "# Database connection settings\n",
    "DATABASE_URI = \"your_database_uri\"\n",
    "\n",
    "# Other settings\n",
    "SCRAPING_INTERVAL = 3600  # Time between scrapes in seconds"
   ]
  }
 ],
 "metadata": {
  "kernelspec": {
   "display_name": "Python 3 (ipykernel)",
   "language": "python",
   "name": "python3"
  },
  "language_info": {
   "codemirror_mode": {
    "name": "ipython",
    "version": 3
   },
   "file_extension": ".py",
   "mimetype": "text/x-python",
   "name": "python",
   "nbconvert_exporter": "python",
   "pygments_lexer": "ipython3",
   "version": "3.9.12"
  }
 },
 "nbformat": 4,
 "nbformat_minor": 5
}
