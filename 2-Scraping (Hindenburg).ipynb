{
 "cells": [
  {
   "attachments": {},
   "cell_type": "markdown",
   "id": "ce6e3bd4",
   "metadata": {},
   "source": [
    "## Import the List of Companies"
   ]
  },
  {
   "cell_type": "code",
   "execution_count": 1,
   "id": "4ecd6255",
   "metadata": {},
   "outputs": [],
   "source": [
    "from config import companies_of_interest\n",
    "\n",
    "# prints a list of all Companies of Interest\n",
    "# for company in companies_of_interest:\n",
    "#         print(company)"
   ]
  },
  {
   "attachments": {},
   "cell_type": "markdown",
   "id": "1b19dfde",
   "metadata": {},
   "source": [
    "## Importing Necessary Libraries"
   ]
  },
  {
   "cell_type": "code",
   "execution_count": 2,
   "id": "91334d02",
   "metadata": {},
   "outputs": [],
   "source": [
    "import requests\n",
    "from bs4 import BeautifulSoup\n",
    "import json\n",
    "import time"
   ]
  },
  {
   "attachments": {},
   "cell_type": "markdown",
   "id": "40fb1d13",
   "metadata": {},
   "source": [
    "## Helper Functions"
   ]
  },
  {
   "cell_type": "code",
   "execution_count": 3,
   "id": "de600207",
   "metadata": {},
   "outputs": [],
   "source": [
    "def write_to_file(data, filename='hindenburg_data.json'):\n",
    "    with open(filename, 'w') as f:\n",
    "        json.dump(data, f, indent=1)"
   ]
  },
  {
   "attachments": {},
   "cell_type": "markdown",
   "id": "e996558a",
   "metadata": {},
   "source": [
    "## Main Scraping Function"
   ]
  },
  {
   "cell_type": "code",
   "execution_count": 4,
   "id": "0669bb2b",
   "metadata": {},
   "outputs": [],
   "source": [
    "def scrape_hindenburg_research(company_names):\n",
    "    base_url = \"https://hindenburgresearch.com/\"\n",
    "    current_url = base_url\n",
    "    scraped_data = []\n",
    "    \n",
    "    while current_url:\n",
    "        response = requests.get(current_url)\n",
    "        soup = BeautifulSoup(response.content, \"html.parser\")\n",
    "        articles = soup.find_all(\"div\", class_=\"post-preview\")\n",
    "\n",
    "        for article in articles:\n",
    "            title_tag = article.find(\"h2\", class_=\"post-title\")\n",
    "            title = title_tag.find(\"a\").text.strip()\n",
    "            link = title_tag.find(\"a\")[\"href\"]\n",
    "\n",
    "            date_published_element = article.find(\"time\", class_=\"entry-date published\")\n",
    "            date_published_element = article.find(\"time\",\\\n",
    "                                                  class_=lambda value: value and value.startswith(\"entry-date published\"))\n",
    "\n",
    "            if date_published_element:\n",
    "                date_published = date_published_element.text.strip()\n",
    "            else:\n",
    "                date_published = \"Not found\"\n",
    "\n",
    "            # Check if the article title contains any of the company names\n",
    "            if any(company_name in title for company_name in company_names):\n",
    "                data = {\n",
    "                    \"title\": title,\n",
    "                    \"link\": link,\n",
    "                    \"date_published\": date_published\n",
    "                }\n",
    "                scraped_data.append(data)\n",
    "        # Find the \"next\" button and update the current_url for the next iteration\n",
    "        next_button = soup.find(\"a\", class_=\"next page-numbers\")\n",
    "        if next_button:\n",
    "            current_url = next_button[\"href\"]\n",
    "        else:\n",
    "            current_url = None\n",
    "\n",
    "        # Add a delay to prevent overloading the server with requests\n",
    "        time.sleep(1)\n",
    "    \n",
    "    # saves the scrapped data onto a file\n",
    "    write_to_file(scraped_data)\n",
    "    return scraped_data"
   ]
  },
  {
   "cell_type": "code",
   "execution_count": 5,
   "id": "d824ec32",
   "metadata": {},
   "outputs": [
    {
     "name": "stdout",
     "output_type": "stream",
     "text": [
      "[\n",
      " {\n",
      "  \"title\": \"Ebix: This House of \\u201cCards\\u201d Seems To Have a Glaring Fake Revenue Problem\",\n",
      "  \"link\": \"https://hindenburgresearch.com/ebix/\",\n",
      "  \"date_published\": \"June 16, 2022\"\n",
      " },\n",
      " {\n",
      "  \"title\": \"Musk Holds All The Cards: We See a Significant Risk That The Twitter Deal Gets Repriced Lower\",\n",
      "  \"link\": \"https://hindenburgresearch.com/twitter/\",\n",
      "  \"date_published\": \"May 9, 2022\"\n",
      " },\n",
      " {\n",
      "  \"title\": \"We View Nikola\\u2019s Response As a Tacit Admission of Securities Fraud\",\n",
      "  \"link\": \"https://hindenburgresearch.com/nikola-response/\",\n",
      "  \"date_published\": \"September 15, 2020\"\n",
      " },\n",
      " {\n",
      "  \"title\": \"Nikola: How to Parlay An Ocean of Lies Into a Partnership With the Largest Auto OEM in America\",\n",
      "  \"link\": \"https://hindenburgresearch.com/nikola/\",\n",
      "  \"date_published\": \"September 10, 2020\"\n",
      " },\n",
      " {\n",
      "  \"title\": \"Riot Blockchain: Yet Another Suspicious, Cash-Depleting Transaction Riot Blockchain, Inc. (RIOT)\",\n",
      "  \"link\": \"https://hindenburgresearch.com/riot-blockchain-yet-another-suspicious-cash-depleting-transaction/\",\n",
      "  \"date_published\": \"February 26, 2018\"\n",
      " },\n",
      " {\n",
      "  \"title\": \"Riot Blockchain\\u2019s Brazen Disclosure Issues Continue Riot Blockchain, Inc. (RIOT)\",\n",
      "  \"link\": \"https://hindenburgresearch.com/riot-blockchains-brazen-disclosure-issues-continue/\",\n",
      "  \"date_published\": \"February 21, 2018\"\n",
      " },\n",
      " {\n",
      "  \"title\": \"Riot Blockchain: This Crypto Clown Car Continues Hurtling Toward The Abyss Riot Blockchain, Inc. (RIOT)\",\n",
      "  \"link\": \"https://hindenburgresearch.com/riot-blockchain-this-crypto-clown-car-continues-hurtling-toward-the-abyss/\",\n",
      "  \"date_published\": \"January 9, 2018\"\n",
      " },\n",
      " {\n",
      "  \"title\": \"Marathon Patent Group: Bright Red Flags With This Newfangled \\u2018Blockchain\\u2019 Play  Marathon Patent Group, Inc. (MARA)\",\n",
      "  \"link\": \"https://hindenburgresearch.com/marathon-patent-group-bright-red-flags-with-this-newfangled-blockchain-play/\",\n",
      "  \"date_published\": \"December 13, 2017\"\n",
      " },\n",
      " {\n",
      "  \"title\": \"Riot Blockchain: Sudden Business Pivot, Suspicious Acquisitions, Questionable Special Dividend Riot Blockchain (RIOT)\",\n",
      "  \"link\": \"https://hindenburgresearch.com/riot-blockchain-sudden-business-pivot-suspicious-acquisitions-questionable-special-dividend/\",\n",
      "  \"date_published\": \"December 11, 2017\"\n",
      " }\n",
      "]\n"
     ]
    }
   ],
   "source": [
    "if __name__ == \"__main__\":\n",
    "    hindenburg_data = scrape_hindenburg_research(companies_of_interest)\n",
    "    # displays the saved data\n",
    "    print(json.dumps(hindenburg_data, indent=1))\n",
    "#     saves the scrapped data onto a file\n",
    "#      write_to_file(hindenburg_data)"
   ]
  }
 ],
 "metadata": {
  "kernelspec": {
   "display_name": "Python 3 (ipykernel)",
   "language": "python",
   "name": "python3"
  },
  "language_info": {
   "codemirror_mode": {
    "name": "ipython",
    "version": 3
   },
   "file_extension": ".py",
   "mimetype": "text/x-python",
   "name": "python",
   "nbconvert_exporter": "python",
   "pygments_lexer": "ipython3",
   "version": "3.10.11"
  }
 },
 "nbformat": 4,
 "nbformat_minor": 5
}
